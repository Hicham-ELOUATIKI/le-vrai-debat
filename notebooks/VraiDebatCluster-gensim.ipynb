{
 "cells": [
  {
   "cell_type": "markdown",
   "metadata": {},
   "source": [
    "# Gensim and Latent Dirichlet Allocation"
   ]
  },
  {
   "cell_type": "code",
   "execution_count": 40,
   "metadata": {},
   "outputs": [],
   "source": [
    "import logging\n",
    "logging.basicConfig(format='%(asctime)s : %(levelname)s : %(message)s', level=logging.WARN)"
   ]
  },
  {
   "cell_type": "code",
   "execution_count": 44,
   "metadata": {},
   "outputs": [],
   "source": [
    "import pandas as pd\n",
    "from pathlib import Path\n",
    "import matplotlib.pyplot as plt\n",
    "import re, json, numpy as np\n",
    "from sklearn.feature_extraction.text import CountVectorizer\n",
    "import nltk\n",
    "from gensim import models, corpora\n",
    "\n",
    "# nltk.download('stopwords')"
   ]
  },
  {
   "cell_type": "code",
   "execution_count": 3,
   "metadata": {},
   "outputs": [],
   "source": [
    "stop_words = set(nltk.corpus.stopwords.words('french'))\n",
    "stemmer = nltk.stem.snowball.FrenchStemmer()"
   ]
  },
  {
   "cell_type": "markdown",
   "metadata": {},
   "source": [
    "# Paremeters"
   ]
  },
  {
   "cell_type": "code",
   "execution_count": 4,
   "metadata": {},
   "outputs": [],
   "source": [
    "# Number of topics\n",
    "n_topics = 8"
   ]
  },
  {
   "cell_type": "markdown",
   "metadata": {},
   "source": [
    "## Load preprocessed data\n",
    "\n",
    "Data is already gathered in a single parquet files with selected columns about opinions (proposals):\n",
    "- title and descriptions\n",
    "- votes (number, positive, mitigate, negative)\n",
    "- arguments (pros, cons)"
   ]
  },
  {
   "cell_type": "code",
   "execution_count": 5,
   "metadata": {},
   "outputs": [
    {
     "name": "stderr",
     "output_type": "stream",
     "text": [
      "/Users/antoinehue/Library/miniconda3/lib/python3.7/site-packages/fastparquet/encoding.py:222: NumbaDeprecationWarning: The 'numba.jitclass' decorator has moved to 'numba.experimental.jitclass' to better reflect the experimental nature of the functionality. Please update your imports to accommodate this change and see http://numba.pydata.org/numba-doc/latest/reference/deprecation.html#change-of-jitclass-location for the time frame.\n",
      "  Numpy8 = numba.jitclass(spec8)(NumpyIO)\n",
      "/Users/antoinehue/Library/miniconda3/lib/python3.7/site-packages/fastparquet/encoding.py:224: NumbaDeprecationWarning: The 'numba.jitclass' decorator has moved to 'numba.experimental.jitclass' to better reflect the experimental nature of the functionality. Please update your imports to accommodate this change and see http://numba.pydata.org/numba-doc/latest/reference/deprecation.html#change-of-jitclass-location for the time frame.\n",
      "  Numpy32 = numba.jitclass(spec32)(NumpyIO)\n"
     ]
    }
   ],
   "source": [
    "df = pd.read_parquet('leVraiDebat-opinions.parquet')"
   ]
  },
  {
   "cell_type": "markdown",
   "metadata": {},
   "source": [
    "**Take only proposals with more than 10 votes**"
   ]
  },
  {
   "cell_type": "code",
   "execution_count": 6,
   "metadata": {},
   "outputs": [
    {
     "data": {
      "text/plain": [
       "(10766, 9)"
      ]
     },
     "execution_count": 6,
     "metadata": {},
     "output_type": "execute_result"
    }
   ],
   "source": [
    "df_sel = df[df.contributions_votesCount >= 10]\n",
    "df_sel.shape"
   ]
  },
  {
   "cell_type": "code",
   "execution_count": 7,
   "metadata": {},
   "outputs": [
    {
     "data": {
      "text/plain": [
       "Index(['master_tag', 'contribution_versions_title',\n",
       "       'contribution_versions_bodyText', 'contributions_votesCount',\n",
       "       'contributions_votesCountOk', 'contributions_votesCountMitige',\n",
       "       'contributions_votesCountNok', 'contributions_argumentsCountFor',\n",
       "       'contributions_argumentsCountAgainst'],\n",
       "      dtype='object')"
      ]
     },
     "execution_count": 7,
     "metadata": {},
     "output_type": "execute_result"
    }
   ],
   "source": [
    "df_sel.columns"
   ]
  },
  {
   "cell_type": "markdown",
   "metadata": {},
   "source": [
    "# Simple bag of word model \n",
    "\n",
    "Tokenize in words and compute word frequencies with Scikit-Learn"
   ]
  },
  {
   "cell_type": "code",
   "execution_count": 8,
   "metadata": {},
   "outputs": [],
   "source": [
    "def compute_words_frequencies(texts):\n",
    "    \"\"\" Remove punctuation, stop words, tokenize and compute frequencies \"\"\"\n",
    "    vect = CountVectorizer(analyzer='word', stop_words=stop_words).fit(texts)\n",
    "    bag_of_words = vect.transform(texts)\n",
    "    sum_words = bag_of_words.sum(axis=0) \n",
    "    freq = [(word, sum_words[0, idx]) for word, idx in vect.vocabulary_.items()]\n",
    "    return bag_of_words, freq"
   ]
  },
  {
   "cell_type": "code",
   "execution_count": 9,
   "metadata": {},
   "outputs": [],
   "source": [
    "bow, word_freqs = compute_words_frequencies(df_sel['contribution_versions_title'])"
   ]
  },
  {
   "cell_type": "code",
   "execution_count": 10,
   "metadata": {},
   "outputs": [
    {
     "data": {
      "text/plain": [
       "[('suppression', 468),\n",
       " ('plus', 341),\n",
       " ('tous', 333),\n",
       " ('retraites', 237),\n",
       " ('retraite', 235),\n",
       " ('france', 233),\n",
       " ('élus', 217),\n",
       " ('non', 215),\n",
       " ('supprimer', 214),\n",
       " ('fin', 204)]"
      ]
     },
     "execution_count": 10,
     "metadata": {},
     "output_type": "execute_result"
    }
   ],
   "source": [
    "sorted(word_freqs, key=lambda x: x[1], reverse=True)[:10]"
   ]
  },
  {
   "cell_type": "code",
   "execution_count": 11,
   "metadata": {},
   "outputs": [
    {
     "data": {
      "text/plain": [
       "(scipy.sparse.csr.csr_matrix, (10766, 8551))"
      ]
     },
     "execution_count": 11,
     "metadata": {},
     "output_type": "execute_result"
    }
   ],
   "source": [
    "type(bow), bow.shape"
   ]
  },
  {
   "cell_type": "markdown",
   "metadata": {},
   "source": [
    "# Tokenize, lemmatize and cleanup"
   ]
  },
  {
   "cell_type": "code",
   "execution_count": 12,
   "metadata": {},
   "outputs": [],
   "source": [
    "def tokenize_clean(text, stem_map):\n",
    "    text = re.sub(r\"[,;\\.\\?!:\\-'\\\"/\\(\\)]+\", ' ', text).lower()\n",
    "    tokens = nltk.word_tokenize(text)\n",
    "    # Remove stop words\n",
    "    tokens = filter(lambda w: w not in stop_words, tokens)\n",
    "    # Filter short tokens (length < 3)\n",
    "    tokens = filter(lambda w: len(w) > 2, tokens)\n",
    "    final_tok = []\n",
    "    for tok in tokens:\n",
    "        stem = stemmer.stem(tok)\n",
    "        # Keep the shortest word corresponding to the stem\n",
    "        if stem in stem_map:\n",
    "            if len(tok) < len(stem_map[stem]):\n",
    "                stem_map[stem] = tok\n",
    "        else:\n",
    "            stem_map.update({stem: tok})\n",
    "        final_tok.append(stem)\n",
    "    return final_tok"
   ]
  },
  {
   "cell_type": "code",
   "execution_count": 13,
   "metadata": {},
   "outputs": [],
   "source": [
    "stem_map = {}\n",
    "tokens = df_sel['contribution_versions_title'].apply(tokenize_clean, args=[stem_map])"
   ]
  },
  {
   "cell_type": "code",
   "execution_count": 14,
   "metadata": {},
   "outputs": [
    {
     "data": {
      "text/plain": [
       "['tirag', 'sort', 'vot', 'blanc']"
      ]
     },
     "execution_count": 14,
     "metadata": {},
     "output_type": "execute_result"
    }
   ],
   "source": [
    "tokens.iloc[0]"
   ]
  },
  {
   "cell_type": "code",
   "execution_count": 15,
   "metadata": {},
   "outputs": [
    {
     "data": {
      "text/plain": [
       "(gensim.corpora.dictionary.Dictionary,\n",
       " 5502,\n",
       " pandas.core.series.Series,\n",
       " (10766,))"
      ]
     },
     "execution_count": 15,
     "metadata": {},
     "output_type": "execute_result"
    }
   ],
   "source": [
    "dictionary = corpora.Dictionary(tokens)\n",
    "corpus = tokens.apply(dictionary.doc2bow)\n",
    "(type(dictionary), len(dictionary), type(corpus), corpus.shape)"
   ]
  },
  {
   "cell_type": "code",
   "execution_count": 16,
   "metadata": {},
   "outputs": [
    {
     "data": {
      "text/plain": [
       "[(0, 1), (1, 1), (2, 1), (3, 1)]"
      ]
     },
     "execution_count": 16,
     "metadata": {},
     "output_type": "execute_result"
    }
   ],
   "source": [
    "corpus.iloc[0]"
   ]
  },
  {
   "cell_type": "markdown",
   "metadata": {},
   "source": [
    "# TF-IDF\n",
    "\n",
    "- TF-IDF = Term frequency times inverse document frequency"
   ]
  },
  {
   "cell_type": "code",
   "execution_count": 17,
   "metadata": {},
   "outputs": [],
   "source": [
    "tfidf = models.TfidfModel(list(corpus))"
   ]
  },
  {
   "cell_type": "code",
   "execution_count": 18,
   "metadata": {},
   "outputs": [],
   "source": [
    "corpus_tfidf = tfidf[corpus]"
   ]
  },
  {
   "cell_type": "code",
   "execution_count": 19,
   "metadata": {},
   "outputs": [
    {
     "data": {
      "text/plain": [
       "[(0, 0.48367984551600596),\n",
       " (1, 0.4233321886454536),\n",
       " (2, 0.6724132396813086),\n",
       " (3, 0.3670205719023794)]"
      ]
     },
     "execution_count": 19,
     "metadata": {},
     "output_type": "execute_result"
    }
   ],
   "source": [
    "next(corpus_tfidf.__iter__())"
   ]
  },
  {
   "cell_type": "markdown",
   "metadata": {},
   "source": [
    "#  LSI\n",
    "\n",
    "- LSI = latent semantic indexing"
   ]
  },
  {
   "cell_type": "code",
   "execution_count": 20,
   "metadata": {},
   "outputs": [],
   "source": [
    "model_lsi = models.LsiModel(corpus_tfidf, id2word=dictionary, num_topics=n_topics)  # initialize an LSI transformation\n",
    "corpus_lsi = model_lsi[corpus_tfidf]  # create a double wrapper over the original corpus: bow->tfidf->fold-in-lsi"
   ]
  },
  {
   "cell_type": "code",
   "execution_count": 21,
   "metadata": {},
   "outputs": [
    {
     "data": {
      "text/plain": [
       "[(0,\n",
       "  '-0.971*\"retrait\" + -0.129*\"index\" + -0.082*\"csg\" + -0.082*\"inflat\" + -0.059*\"an\" + -0.056*\"pension\" + -0.049*\"revaloris\" + -0.043*\"salair\" + -0.038*\"tous\" + -0.038*\"élus\"'),\n",
       " (1,\n",
       "  '0.382*\"fiscal\" + 0.374*\"suppress\" + 0.288*\"vot\" + 0.226*\"salair\" + 0.165*\"tax\" + 0.155*\"justic\" + 0.153*\"immigr\" + 0.145*\"tous\" + 0.143*\"élus\" + 0.137*\"impôt\"'),\n",
       " (2,\n",
       "  '0.913*\"immigr\" + 0.212*\"vot\" + -0.203*\"fiscal\" + -0.129*\"suppress\" + 0.085*\"blanc\" + 0.079*\"obligatoir\" + -0.075*\"justic\" + -0.059*\"salair\" + -0.054*\"tax\" + -0.048*\"fraud\"'),\n",
       " (3,\n",
       "  '0.716*\"vot\" + -0.353*\"immigr\" + 0.292*\"blanc\" + -0.279*\"fiscal\" + 0.279*\"obligatoir\" + -0.121*\"suppress\" + 0.102*\"droit\" + -0.099*\"justic\" + 0.098*\"compt\" + 0.082*\"pris\"'),\n",
       " (4,\n",
       "  '0.577*\"fiscal\" + -0.523*\"salair\" + -0.186*\"élus\" + 0.181*\"vot\" + 0.178*\"justic\" + -0.171*\"augment\" + 0.138*\"fraud\" + -0.122*\"vi\" + 0.120*\"nich\" + 0.119*\"évas\"'),\n",
       " (5,\n",
       "  '-0.566*\"suppress\" + 0.480*\"salair\" + -0.320*\"tax\" + 0.245*\"fiscal\" + 0.173*\"justic\" + 0.158*\"europ\" + -0.151*\"droit\" + 0.131*\"pouvoir\" + 0.124*\"augment\" + -0.123*\"csg\"'),\n",
       " (6,\n",
       "  '0.661*\"pouvoir\" + 0.557*\"achat\" + -0.244*\"salair\" + -0.135*\"fiscal\" + 0.111*\"citoyen\" + 0.105*\"tax\" + 0.091*\"justic\" + -0.087*\"suppress\" + -0.082*\"élus\" + 0.078*\"europ\"'),\n",
       " (7,\n",
       "  '-0.645*\"europ\" + 0.236*\"pouvoir\" + -0.232*\"sort\" + -0.226*\"citoyen\" + 0.211*\"achat\" + 0.207*\"suppress\" + 0.171*\"salair\" + 0.151*\"fiscal\" + -0.149*\"social\" + -0.143*\"ric\"')]"
      ]
     },
     "execution_count": 21,
     "metadata": {},
     "output_type": "execute_result"
    }
   ],
   "source": [
    "model_lsi.print_topics(n_topics)"
   ]
  },
  {
   "cell_type": "code",
   "execution_count": 22,
   "metadata": {},
   "outputs": [
    {
     "data": {
      "text/plain": [
       "[(0, -0.003000854374886836),\n",
       " (1, 0.1800590547562096),\n",
       " (2, 0.12091227374977637),\n",
       " (3, 0.40913069092361465),\n",
       " (4, 0.10551468892350148),\n",
       " (5, 0.053888461376503244),\n",
       " (6, -0.017683437239955975),\n",
       " (7, -0.053811371534191826)]"
      ]
     },
     "execution_count": 22,
     "metadata": {},
     "output_type": "execute_result"
    }
   ],
   "source": [
    "next(corpus_lsi.__iter__())"
   ]
  },
  {
   "cell_type": "markdown",
   "metadata": {},
   "source": [
    "## LDA\n",
    "\n",
    "- LDA = Latent Dirichlet Allocation\n",
    "\n",
    "It is an alternative to LSI"
   ]
  },
  {
   "cell_type": "code",
   "execution_count": 23,
   "metadata": {},
   "outputs": [],
   "source": [
    "# Set training parameters.\n",
    "num_topics = 10\n",
    "chunksize = 2000\n",
    "passes = 10\n",
    "iterations = 400\n",
    "eval_every = 10  # None # Don't evaluate model perplexity, takes too much time.\n",
    "\n",
    "model_lda = models.LdaModel(\n",
    "    corpus=corpus_tfidf,\n",
    "    # Make a index to word dictionary.\n",
    "    id2word=dictionary.id2token,\n",
    "    chunksize=2000,\n",
    "    alpha='auto',\n",
    "    eta='auto',\n",
    "    iterations=iterations,\n",
    "    num_topics=n_topics,\n",
    "    passes=passes,\n",
    "    eval_every=eval_every\n",
    ")"
   ]
  },
  {
   "cell_type": "code",
   "execution_count": 27,
   "metadata": {},
   "outputs": [
    {
     "name": "stdout",
     "output_type": "stream",
     "text": [
      "Average topic coherence: -0.5817.\n",
      "[([(0.020474954, 'franc'),\n",
      "   (0.016864885, 'publiqu'),\n",
      "   (0.016292073, 'animal'),\n",
      "   (0.015947426, 'gratuit'),\n",
      "   (0.014196418, 'europ'),\n",
      "   (0.011098131, 'vi'),\n",
      "   (0.010521832, 'fair'),\n",
      "   (0.010080845, 'handicap'),\n",
      "   (0.009545414, 'état'),\n",
      "   (0.009489485, 'retour'),\n",
      "   (0.009081237, 'carbur'),\n",
      "   (0.009035756, 'financ'),\n",
      "   (0.009024999, 'nouvel'),\n",
      "   (0.008571795, 'fonction'),\n",
      "   (0.008537779, 'mettr'),\n",
      "   (0.008234618, 'train'),\n",
      "   (0.00818418, 'plac'),\n",
      "   (0.008182746, 'isf'),\n",
      "   (0.008101468, 'non'),\n",
      "   (0.0076976814, 'person')],\n",
      "  0.0),\n",
      " ([(0.02426842, 'retrait'),\n",
      "   (0.021148501, 'justic'),\n",
      "   (0.019564627, 'chass'),\n",
      "   (0.016613975, 'an'),\n",
      "   (0.015638296, 'contrôl'),\n",
      "   (0.012035295, 'alloc'),\n",
      "   (0.011106583, 'familial'),\n",
      "   (0.010849664, 'techniqu'),\n",
      "   (0.010209721, 'bas'),\n",
      "   (0.009569257, 'jaun'),\n",
      "   (0.0094048465, 'subvent'),\n",
      "   (0.009135148, 'gilet'),\n",
      "   (0.008898271, 'linky'),\n",
      "   (0.008711955, 'fraud'),\n",
      "   (0.008226878, 'réform'),\n",
      "   (0.008049447, 'fiscal'),\n",
      "   (0.00803343, 'amélior'),\n",
      "   (0.0072444184, 'ferm'),\n",
      "   (0.0060974504, 'dépass'),\n",
      "   (0.0057470375, 'press')],\n",
      "  0.0),\n",
      " ([(0.020503746, 'suppress'),\n",
      "   (0.015475854, 'interdir'),\n",
      "   (0.0147388885, 'public'),\n",
      "   (0.01366675, 'interdict'),\n",
      "   (0.012273739, 'fin'),\n",
      "   (0.011744469, 'limit'),\n",
      "   (0.010826979, 'supprim'),\n",
      "   (0.010476576, 'élus'),\n",
      "   (0.009690881, 'autorout'),\n",
      "   (0.00923934, 'travail'),\n",
      "   (0.00923573, 'servic'),\n",
      "   (0.00920666, 'polit'),\n",
      "   (0.008523848, 'tous'),\n",
      "   (0.0075308187, 'respect'),\n",
      "   (0.007471615, 'privileg'),\n",
      "   (0.0074171443, 'import'),\n",
      "   (0.007162995, 'glyphosat'),\n",
      "   (0.007134037, 'tout'),\n",
      "   (0.0069337296, 'président'),\n",
      "   (0.0068914127, 'moin')],\n",
      "  0.0),\n",
      " ([(0.03382828, 'retrait'),\n",
      "   (0.030141532, 'tax'),\n",
      "   (0.016522558, 'social'),\n",
      "   (0.016519526, 'produit'),\n",
      "   (0.015256977, 'voitur'),\n",
      "   (0.014812324, 'salair'),\n",
      "   (0.014767536, 'pouvoir'),\n",
      "   (0.014761529, 'développ'),\n",
      "   (0.014443075, 'fiscal'),\n",
      "   (0.0142604895, 'tva'),\n",
      "   (0.013234727, 'augment'),\n",
      "   (0.011887157, 'impôt'),\n",
      "   (0.01153771, 'contr'),\n",
      "   (0.011383732, 'électr'),\n",
      "   (0.0108041335, 'achat'),\n",
      "   (0.010002563, 'csg'),\n",
      "   (0.009938553, 'transit'),\n",
      "   (0.009733792, 'index'),\n",
      "   (0.009444602, 'loi'),\n",
      "   (0.008725203, 'européen')],\n",
      "  0.0),\n",
      " ([(0.023299683, 'transport'),\n",
      "   (0.0136680985, 'stop'),\n",
      "   (0.0130322855, 'bio'),\n",
      "   (0.012672855, 'commun'),\n",
      "   (0.011543276, 'agricultur'),\n",
      "   (0.010375186, 'nucléair'),\n",
      "   (0.010370629, 'terr'),\n",
      "   (0.010287042, 'log'),\n",
      "   (0.01027789, 'aid'),\n",
      "   (0.010205974, 'agricol'),\n",
      "   (0.010142127, 'revenu'),\n",
      "   (0.010085626, 'favoris'),\n",
      "   (0.0091597, 'eau'),\n",
      "   (0.008309012, 'universel'),\n",
      "   (0.007799557, 'ric'),\n",
      "   (0.0074917837, 'carbon'),\n",
      "   (0.0074415025, 'alimentair'),\n",
      "   (0.0073492094, 'pesticid'),\n",
      "   (0.0070875706, 'nationalis'),\n",
      "   (0.0069860993, 'ferroviair')],\n",
      "  0.0),\n",
      " ([(0.011435676, 'sncf'),\n",
      "   (0.01132805, 'vitess'),\n",
      "   (0.010717593, 'référendum'),\n",
      "   (0.010303265, 'ecolog'),\n",
      "   (0.0100747105, 'citoyen'),\n",
      "   (0.009874142, 'plastiqu'),\n",
      "   (0.009596972, 'poid'),\n",
      "   (0.009333743, 'sport'),\n",
      "   (0.009210732, 'lourd'),\n",
      "   (0.009097508, 'ver'),\n",
      "   (0.008843559, 'démocrat'),\n",
      "   (0.008755839, 'polic'),\n",
      "   (0.008612001, 'abandon'),\n",
      "   (0.008120453, 'mandat'),\n",
      "   (0.00801615, 'proportionnel'),\n",
      "   (0.0073254434, 'sol'),\n",
      "   (0.007165999, 'particip'),\n",
      "   (0.007009899, 'utilis'),\n",
      "   (0.0069118603, 'elect'),\n",
      "   (0.0067085335, 'urgenc')],\n",
      "  0.0),\n",
      " ([(0.026570179, 'écolog'),\n",
      "   (0.017177941, 'sort'),\n",
      "   (0.014302214, 'écol'),\n",
      "   (0.013829188, 'national'),\n",
      "   (0.012419322, 'énerg'),\n",
      "   (0.011378161, 'enseign'),\n",
      "   (0.0095522655, 'revaloris'),\n",
      "   (0.009207256, 'stopp'),\n",
      "   (0.007891927, 'point'),\n",
      "   (0.0075794673, 'vent'),\n",
      "   (0.007352062, 'éolien'),\n",
      "   (0.0071137487, 'assembl'),\n",
      "   (0.0070691234, 'intens'),\n",
      "   (0.006859222, 'frex'),\n",
      "   (0.0068409573, 'camion'),\n",
      "   (0.0065814713, 'plan'),\n",
      "   (0.0065209107, 'jug'),\n",
      "   (0.006414514, 'renouvel'),\n",
      "   (0.0060874717, 'médecin'),\n",
      "   (0.0058681695, 'abolit')],\n",
      "  -2.6174818946852256),\n",
      " ([(0.033830266, 'immigr'),\n",
      "   (0.024162738, 'droit'),\n",
      "   (0.020331062, 'vot'),\n",
      "   (0.014383398, 'obligatoir'),\n",
      "   (0.013748566, 'sant'),\n",
      "   (0.011180233, 'perm'),\n",
      "   (0.010571187, 'compt'),\n",
      "   (0.010163718, 'cour'),\n",
      "   (0.0098052425, 'oblig'),\n",
      "   (0.0095858285, 'débat'),\n",
      "   (0.008711375, 'médical'),\n",
      "   (0.008626146, 'cannab'),\n",
      "   (0.008488356, 'solair'),\n",
      "   (0.007909789, 'blanc'),\n",
      "   (0.0077709304, 'internet'),\n",
      "   (0.0077285785, 'frais'),\n",
      "   (0.007659177, 'légalis'),\n",
      "   (0.0073432457, 'renationalis'),\n",
      "   (0.0072424496, 'tarif'),\n",
      "   (0.0071442984, 'success')],\n",
      "  -3.199144537948604)]\n"
     ]
    }
   ],
   "source": [
    "top_topics = model_lda.top_topics(corpus_lsi) #, num_words=20)\n",
    "\n",
    "# Average topic coherence is the sum of topic coherences of all topics, divided by the number of topics.\n",
    "avg_topic_coherence = sum([t[1] for t in top_topics]) / num_topics\n",
    "print('Average topic coherence: %.4f.' % avg_topic_coherence)\n",
    "\n",
    "from pprint import pprint\n",
    "pprint(top_topics)"
   ]
  },
  {
   "cell_type": "code",
   "execution_count": 59,
   "metadata": {},
   "outputs": [],
   "source": [
    "all_scores = np.array(list(map(lambda t: list(map(lambda tt: tt[0], t[0])), top_topics)))"
   ]
  },
  {
   "cell_type": "code",
   "execution_count": 62,
   "metadata": {},
   "outputs": [],
   "source": [
    "top_topics_reworked = []\n",
    "scale = 50 / all_scores.max()\n",
    "for topic in top_topics:\n",
    "    topic_reworked = [{'size': word_duplet[0] * scale, 'text' : stem_map[word_duplet[1]]} for word_duplet in topic[0]]\n",
    "    top_topics_reworked.append(topic_reworked)"
   ]
  },
  {
   "cell_type": "code",
   "execution_count": 63,
   "metadata": {},
   "outputs": [
    {
     "name": "stdout",
     "output_type": "stream",
     "text": [
      "[[{'size': 18.156777106393918, 'text': 'franc'},\n",
      "  {'size': 14.955440571296242, 'text': 'publique'},\n",
      "  {'size': 14.447482574797306, 'text': 'animal'},\n",
      "  {'size': 14.141856461720053, 'text': 'gratuit'},\n",
      "  {'size': 12.58909821045423, 'text': 'europe'},\n",
      "  {'size': 9.841599052024046, 'text': 'vie'},\n",
      "  {'size': 9.330548967800993, 'text': 'faire'},\n",
      "  {'size': 8.939490717294978, 'text': 'handicap'},\n",
      "  {'size': 8.464680991357682, 'text': 'état'},\n",
      "  {'size': 8.415084531930265, 'text': 'retour'},\n",
      "  {'size': 8.05305837537879, 'text': 'carburant'},\n",
      "  {'size': 8.012726616829877, 'text': 'finance'},\n",
      "  {'size': 8.003187724411735, 'text': 'nouvel'},\n",
      "  {'size': 7.601295604577479, 'text': 'fonction'},\n",
      "  {'size': 7.571130405826604, 'text': 'mettre'},\n",
      "  {'size': 7.302293859992514, 'text': 'train'},\n",
      "  {'size': 7.2575659521499425, 'text': 'place'},\n",
      "  {'size': 7.256294925705655, 'text': 'isf'},\n",
      "  {'size': 7.184218889418553, 'text': 'non'},\n",
      "  {'size': 6.8261491020557425, 'text': 'personne'}],\n",
      " [{'size': 21.520747214891177, 'text': 'retraite'},\n",
      "  {'size': 18.754065385102017, 'text': 'justice'},\n",
      "  {'size': 17.3495175715483, 'text': 'chasse'},\n",
      "  {'size': 14.73293909214851, 'text': 'ans'},\n",
      "  {'size': 13.867726037063429, 'text': 'contrôle'},\n",
      "  {'size': 10.672657916983392, 'text': 'allocs'},\n",
      "  {'size': 9.849094721945002, 'text': 'familial'},\n",
      "  {'size': 9.621263851215081, 'text': 'technique'},\n",
      "  {'size': 9.053774907245627, 'text': 'bas'},\n",
      "  {'size': 8.485824297400697, 'text': 'jaune'},\n",
      "  {'size': 8.340028727344924, 'text': 'subvention'},\n",
      "  {'size': 8.100865156895372, 'text': 'gilet'},\n",
      "  {'size': 7.890808009432189, 'text': 'linky'},\n",
      "  {'size': 7.725586133968665, 'text': 'fraudé'},\n",
      "  {'size': 7.29542998684211, 'text': 'réforme'},\n",
      "  {'size': 7.138087814630662, 'text': 'fiscal'},\n",
      "  {'size': 7.123884362526144, 'text': 'améliorer'},\n",
      "  {'size': 6.42420453896014, 'text': 'ferme'},\n",
      "  {'size': 5.407096390879531, 'text': 'dépasser'},\n",
      "  {'size': 5.0963572662905285, 'text': 'presse'}],\n",
      " [{'size': 18.18230995470554, 'text': 'suppression'},\n",
      "  {'size': 13.723676373377522, 'text': 'interdire'},\n",
      "  {'size': 13.070149923308957, 'text': 'public'},\n",
      "  {'size': 12.119399018394288, 'text': 'interdiction'},\n",
      "  {'size': 10.88410501734179, 'text': 'fin'},\n",
      "  {'size': 10.414759301122105, 'text': 'limite'},\n",
      "  {'size': 9.601147111689446, 'text': 'supprimé'},\n",
      "  {'size': 9.29041707175989, 'text': 'élus'},\n",
      "  {'size': 8.593678200219948, 'text': 'autoroute'},\n",
      "  {'size': 8.193261098728446, 'text': 'travail'},\n",
      "  {'size': 8.19005999509098, 'text': 'service'},\n",
      "  {'size': 8.164281035096186, 'text': 'politique'},\n",
      "  {'size': 7.558776920736512, 'text': 'tous'},\n",
      "  {'size': 6.678178581940821, 'text': 'respect'},\n",
      "  {'size': 6.6256779220641935, 'text': 'privilège'},\n",
      "  {'size': 6.577374374851549, 'text': 'import'},\n",
      "  {'size': 6.352000078623599, 'text': 'glyphosate'},\n",
      "  {'size': 6.3263206369436435, 'text': 'tout'},\n",
      "  {'size': 6.148692007250549, 'text': 'président'},\n",
      "  {'size': 6.111166169653207, 'text': 'moins'}],\n",
      " [{'size': 29.99823922782377, 'text': 'retraite'},\n",
      "  {'size': 26.728904842652046, 'text': 'tax'},\n",
      "  {'size': 14.651872546522542, 'text': 'social'},\n",
      "  {'size': 14.649183487326571, 'text': 'produit'},\n",
      "  {'size': 13.529580146682564, 'text': 'voiture'},\n",
      "  {'size': 13.135271239851196, 'text': 'salaire'},\n",
      "  {'size': 13.095553934632077, 'text': 'pouvoir'},\n",
      "  {'size': 13.090227020684283, 'text': 'développer'},\n",
      "  {'size': 12.807828730053805, 'text': 'fiscal'},\n",
      "  {'size': 12.645915322384832, 'text': 'tva'},\n",
      "  {'size': 11.736289844903391, 'text': 'augmenté'},\n",
      "  {'size': 10.541292089640152, 'text': 'impôt'},\n",
      "  {'size': 10.231409400673455, 'text': 'contre'},\n",
      "  {'size': 10.09486449156795, 'text': 'électrique'},\n",
      "  {'size': 9.580888321125203, 'text': 'achat'},\n",
      "  {'size': 8.87007153095672, 'text': 'csg'},\n",
      "  {'size': 8.813308926982794, 'text': 'transiter'},\n",
      "  {'size': 8.631731361004215, 'text': 'index'},\n",
      "  {'size': 8.375282987141738, 'text': 'loi'},\n",
      "  {'size': 7.737334250388411, 'text': 'européen'}],\n",
      " [{'size': 20.661690255397858, 'text': 'transport'},\n",
      "  {'size': 12.120594889928615, 'text': 'stop'},\n",
      "  {'size': 11.556768715472101, 'text': 'bio'},\n",
      "  {'size': 11.238032612936356, 'text': 'commun'},\n",
      "  {'size': 10.236344848386945, 'text': 'agriculture'},\n",
      "  {'size': 9.200506197224323, 'text': 'nucléaire'},\n",
      "  {'size': 9.196465175527184, 'text': 'terre'},\n",
      "  {'size': 9.122341787352239, 'text': 'logé'},\n",
      "  {'size': 9.11422588295457, 'text': 'aide'},\n",
      "  {'size': 9.050452399522841, 'text': 'agricole'},\n",
      "  {'size': 8.993834324221917, 'text': 'revenu'},\n",
      "  {'size': 8.943729949743664, 'text': 'favorise'},\n",
      "  {'size': 8.122637782074547, 'text': 'eau'},\n",
      "  {'size': 7.368265005132007, 'text': 'universel'},\n",
      "  {'size': 6.916490259097791, 'text': 'ric'},\n",
      "  {'size': 6.643563138878676, 'text': 'carbone'},\n",
      "  {'size': 6.598974804440317, 'text': 'alimentaire'},\n",
      "  {'size': 6.517131107492664, 'text': 'pesticides'},\n",
      "  {'size': 6.285115099331667, 'text': 'nationalisé'},\n",
      "  {'size': 6.195132373398664, 'text': 'ferroviaire'}],\n",
      " [{'size': 10.140927844349061, 'text': 'sncf'},\n",
      "  {'size': 10.045486889845366, 'text': 'vitesse'},\n",
      "  {'size': 9.504146073395459, 'text': 'référendum'},\n",
      "  {'size': 9.136728584401938, 'text': 'ecologie'},\n",
      "  {'size': 8.934050658043178, 'text': 'citoyen'},\n",
      "  {'size': 8.756190369534215, 'text': 'plastique'},\n",
      "  {'size': 8.510401604714245, 'text': 'poids'},\n",
      "  {'size': 8.276975409643812, 'text': 'sport'},\n",
      "  {'size': 8.167891774286845, 'text': 'lourd'},\n",
      "  {'size': 8.067487292213192, 'text': 'ver'},\n",
      "  {'size': 7.8422901468444355, 'text': 'démocratie'},\n",
      "  {'size': 7.7645023374002875, 'text': 'police'},\n",
      "  {'size': 7.636949589389911, 'text': 'abandon'},\n",
      "  {'size': 7.201054415127973, 'text': 'mandat'},\n",
      "  {'size': 7.10856101967539, 'text': 'proportionnel'},\n",
      "  {'size': 6.496055936395491, 'text': 'sol'},\n",
      "  {'size': 6.354663948536561, 'text': 'participe'},\n",
      "  {'size': 6.2162372761085685, 'text': 'utilise'},\n",
      "  {'size': 6.129298736968056, 'text': 'election'},\n",
      "  {'size': 5.948992610372831, 'text': 'urgence'}],\n",
      " [{'size': 23.56190006147837, 'text': 'écologie'},\n",
      "  {'size': 15.233052898155021, 'text': 'sort'},\n",
      "  {'size': 12.682915488551512, 'text': 'école'},\n",
      "  {'size': 12.2634462044458, 'text': 'national'},\n",
      "  {'size': 11.013204635092356, 'text': 'énergie'},\n",
      "  {'size': 10.08992408858567, 'text': 'enseigne'},\n",
      "  {'size': 8.47075697677069, 'text': 'revalorisé'},\n",
      "  {'size': 8.164809597100309, 'text': 'stoppé'},\n",
      "  {'size': 6.998402090991289, 'text': 'point'},\n",
      "  {'size': 6.721319152014763, 'text': 'vente'},\n",
      "  {'size': 6.519660772209267, 'text': 'éolien'},\n",
      "  {'size': 6.308329294789271, 'text': 'assemblé'},\n",
      "  {'size': 6.268756518243152, 'text': 'intensif'},\n",
      "  {'size': 6.082620104979021, 'text': 'frexit'},\n",
      "  {'size': 6.06642339600427, 'text': 'camion'},\n",
      "  {'size': 5.836316405144098, 'text': 'plan'},\n",
      "  {'size': 5.782612440829961, 'text': 'jug'},\n",
      "  {'size': 5.688262058398834, 'text': 'renouvelé'},\n",
      "  {'size': 5.398247519640208, 'text': 'médecin'},\n",
      "  {'size': 5.203774692517313, 'text': 'abolition'}],\n",
      " [{'size': 30.0, 'text': 'immigré'},\n",
      "  {'size': 21.4270298680478, 'text': 'droit'},\n",
      "  {'size': 18.029177283330046, 'text': 'vote'},\n",
      "  {'size': 12.75490811114734, 'text': 'obligatoire'},\n",
      "  {'size': 12.191951586363233, 'text': 'santé'},\n",
      "  {'size': 9.914405990457475, 'text': 'permis'},\n",
      "  {'size': 9.3743163793767, 'text': 'compte'},\n",
      "  {'size': 9.012980656943109, 'text': 'cour'},\n",
      "  {'size': 8.695091905370223, 'text': 'oblige'},\n",
      "  {'size': 8.500519972871555, 'text': 'débat'},\n",
      "  {'size': 7.725072437770909, 'text': 'médical'},\n",
      "  {'size': 7.649493026450234, 'text': 'cannabis'},\n",
      "  {'size': 7.527303531025433, 'text': 'solaire'},\n",
      "  {'size': 7.014241607674192, 'text': 'blanc'},\n",
      "  {'size': 6.891104830032629, 'text': 'internet'},\n",
      "  {'size': 6.8535480220053575, 'text': 'frais'},\n",
      "  {'size': 6.792003996589454, 'text': 'légaliser'},\n",
      "  {'size': 6.511842596877982, 'text': 'renationaliser'},\n",
      "  {'size': 6.422458632590274, 'text': 'tarif'},\n",
      "  {'size': 6.335420162195859, 'text': 'succession'}]]\n"
     ]
    }
   ],
   "source": [
    "pprint(top_topics_reworked)"
   ]
  },
  {
   "cell_type": "code",
   "execution_count": 64,
   "metadata": {},
   "outputs": [],
   "source": [
    "with open('topics.json', 'w') as f:\n",
    "    json.dump(top_topics_reworked, f)"
   ]
  },
  {
   "cell_type": "code",
   "execution_count": 25,
   "metadata": {},
   "outputs": [],
   "source": [
    "corpus_lda = model_lda[corpus] "
   ]
  },
  {
   "cell_type": "code",
   "execution_count": 26,
   "metadata": {},
   "outputs": [
    {
     "name": "stdout",
     "output_type": "stream",
     "text": [
      "[(0, 0.22027753), (1, 0.043466527), (2, 0.08856979), (3, 0.30207163), (4, 0.079111174), (5, 0.06400101), (6, 0.045604676), (7, 0.1568977)] Tirage au sort pour les Votes blancs\n",
      "[(0, 0.1011175), (1, 0.058582455), (2, 0.11937088), (3, 0.40691215), (4, 0.105146036), (5, 0.08625802), (6, 0.061464164), (7, 0.061148833)] PAS D'ANONYMAT DANS L'ABSTENTION\n",
      "[(0, 0.43552265), (1, 0.018058907), (2, 0.16328576), (3, 0.12573983), (4, 0.08609264), (5, 0.1334559), (6, 0.018985784), (7, 0.0188585)] Pic-Ric --- Action pour une organisation du mouvement par vote (mise en place immédiat du 1er RIC) et création d'un espace conviviale et pacifiste\n",
      "[(0, 0.16035853), (1, 0.021416375), (2, 0.27556804), (3, 0.14890605), (4, 0.108738974), (5, 0.10521894), (6, 0.08611774), (7, 0.09367536)] Organiser des Référendums pour toutes les questions importantes (idem nos voisins suisses) et que le résultat soit pris en compte et respecté.\n",
      "[(0, 0.18998747), (1, 0.037034117), (2, 0.18478711), (3, 0.2571339), (4, 0.13097402), (5, 0.036075186), (6, 0.076242186), (7, 0.08776604)] Avoir une formation à la démocratie à l'école (Maternelle à l'Université) dans la vie associative et la vie courante\n"
     ]
    }
   ],
   "source": [
    "for doc, as_text in zip(corpus_lda, df_sel['contribution_versions_title'][:5]):\n",
    "    print(doc, as_text)"
   ]
  },
  {
   "cell_type": "markdown",
   "metadata": {},
   "source": [
    "## References and inspirations\n",
    "\n",
    "- https://radimrehurek.com/gensim/auto_examples/core/run_topics_and_transformations.html#sphx-glr-auto-examples-core-run-topics-and-transformations-py\n",
    "- https://radimrehurek.com/gensim/auto_examples/tutorials/run_lda.html#sphx-glr-auto-examples-tutorials-run-lda-py\n",
    "- https://towardsdatascience.com/topic-modeling-with-latent-dirichlet-allocation-by-example-3b22cd10c835\n"
   ]
  },
  {
   "cell_type": "code",
   "execution_count": null,
   "metadata": {},
   "outputs": [],
   "source": []
  }
 ],
 "metadata": {
  "kernelspec": {
   "display_name": "Python 3",
   "language": "python",
   "name": "python3"
  },
  "language_info": {
   "codemirror_mode": {
    "name": "ipython",
    "version": 3
   },
   "file_extension": ".py",
   "mimetype": "text/x-python",
   "name": "python",
   "nbconvert_exporter": "python",
   "pygments_lexer": "ipython3",
   "version": "3.7.6"
  }
 },
 "nbformat": 4,
 "nbformat_minor": 4
}
