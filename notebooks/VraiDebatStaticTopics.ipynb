{
 "cells": [
  {
   "cell_type": "markdown",
   "metadata": {},
   "source": [
    "# Original static topics"
   ]
  },
  {
   "cell_type": "code",
   "execution_count": 1,
   "metadata": {},
   "outputs": [],
   "source": [
    "import pandas as pd\n",
    "from pathlib import Path\n",
    "import matplotlib.pyplot as plt\n",
    "import re, json, numpy as np"
   ]
  },
  {
   "cell_type": "markdown",
   "metadata": {},
   "source": [
    "## Load preprocessed data\n",
    "\n",
    "Data is already gathered in a single parquet files with selected columns about opinions (proposals):\n",
    "- title and descriptions\n",
    "- votes (number, positive, mitigate, negative)\n",
    "- arguments (pros, cons)"
   ]
  },
  {
   "cell_type": "code",
   "execution_count": 24,
   "metadata": {},
   "outputs": [],
   "source": [
    "df = pd.read_parquet('leVraiDebat-opinions.parquet')"
   ]
  },
  {
   "cell_type": "code",
   "execution_count": 25,
   "metadata": {},
   "outputs": [
    {
     "data": {
      "text/plain": [
       "Index(['master_tag', 'contributions_id', 'contribution_versions_title',\n",
       "       'contribution_versions_bodyText', 'contributions_votesCount',\n",
       "       'contributions_votesCountOk', 'contributions_votesCountMitige',\n",
       "       'contributions_votesCountNok', 'contributions_argumentsCountFor',\n",
       "       'contributions_argumentsCountAgainst'],\n",
       "      dtype='object')"
      ]
     },
     "execution_count": 25,
     "metadata": {},
     "output_type": "execute_result"
    }
   ],
   "source": [
    "df.columns"
   ]
  },
  {
   "cell_type": "markdown",
   "metadata": {},
   "source": [
    "# Selection of opinions\n",
    "\n",
    "For each topic save the 20 best proposals"
   ]
  },
  {
   "cell_type": "code",
   "execution_count": 26,
   "metadata": {},
   "outputs": [],
   "source": [
    "#df.set_index('contributions_id', inplace=True)"
   ]
  },
  {
   "cell_type": "code",
   "execution_count": 27,
   "metadata": {},
   "outputs": [
    {
     "data": {
      "text/plain": [
       "array(['democratie-institutions-referendum-dinitiative-citoyenne',\n",
       "       'economie-finances-travail-compte-public',\n",
       "       'education-jeunesse-enseignement-superieur-recherche-et-innovation',\n",
       "       'europe-affaires-etrangeres-outre-mer', 'justice-police-armee',\n",
       "       'sante-solidarite-handicap', 'sport-culture', 'expression-libre',\n",
       "       'transition-ecologique-solidaire-agriculture-alimentation'],\n",
       "      dtype=object)"
      ]
     },
     "execution_count": 27,
     "metadata": {},
     "output_type": "execute_result"
    }
   ],
   "source": [
    "topics = df.master_tag.unique()\n",
    "topics"
   ]
  },
  {
   "cell_type": "code",
   "execution_count": 30,
   "metadata": {},
   "outputs": [],
   "source": [
    "saved_cols = ['contributions_id', 'contribution_versions_title',\n",
    "       'contribution_versions_bodyText', 'contributions_votesCount',\n",
    "       'contributions_votesCountOk', 'contributions_votesCountMitige',\n",
    "       'contributions_votesCountNok', 'contributions_argumentsCountFor',\n",
    "       'contributions_argumentsCountAgainst']\n",
    "for i, topic in enumerate(topics):\n",
    "    main_contributions = df[df.master_tag == topic].sort_values('contributions_votesCountOk', ascending=False)[:20]\n",
    "    main_contributions[saved_cols].to_json('topic_%d_main_contributions.json' % i, orient='records')"
   ]
  },
  {
   "cell_type": "code",
   "execution_count": 31,
   "metadata": {},
   "outputs": [],
   "source": [
    "# Without topic filter => root\n",
    "main_contributions = df.sort_values('contributions_votesCountOk', ascending=False)[:20]\n",
    "main_contributions[saved_cols].to_json('topic_root_main_contributions.json', orient='records')"
   ]
  },
  {
   "cell_type": "code",
   "execution_count": null,
   "metadata": {},
   "outputs": [],
   "source": []
  }
 ],
 "metadata": {
  "kernelspec": {
   "display_name": "Python 3",
   "language": "python",
   "name": "python3"
  },
  "language_info": {
   "codemirror_mode": {
    "name": "ipython",
    "version": 3
   },
   "file_extension": ".py",
   "mimetype": "text/x-python",
   "name": "python",
   "nbconvert_exporter": "python",
   "pygments_lexer": "ipython3",
   "version": "3.7.6"
  }
 },
 "nbformat": 4,
 "nbformat_minor": 4
}
