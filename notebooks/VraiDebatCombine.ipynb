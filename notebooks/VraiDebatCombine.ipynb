{
 "cells": [
  {
   "cell_type": "markdown",
   "metadata": {},
   "source": [
    "# Exporation data of le \"Vrai débat\""
   ]
  },
  {
   "cell_type": "code",
   "execution_count": 1,
   "metadata": {},
   "outputs": [],
   "source": [
    "import pandas as pd\n",
    "from pathlib import Path\n",
    "import matplotlib.pyplot as plt\n",
    "import re"
   ]
  },
  {
   "cell_type": "code",
   "execution_count": 2,
   "metadata": {},
   "outputs": [],
   "source": [
    "col_selection = ['contributions_id', 'contribution_versions_title', 'contribution_versions_bodyText', 'contributions_votesCount', 'contributions_votesCountOk', 'contributions_votesCountMitige', 'contributions_votesCountNok', 'contributions_argumentsCountFor', 'contributions_argumentsCountAgainst']\n",
    "col_master = ['master_tag', *col_selection]"
   ]
  },
  {
   "cell_type": "code",
   "execution_count": 3,
   "metadata": {},
   "outputs": [],
   "source": [
    "data_path = Path('csv_anonymes')"
   ]
  },
  {
   "cell_type": "code",
   "execution_count": 4,
   "metadata": {},
   "outputs": [],
   "source": [
    "files = ['2019-03-04_democratie-institutions-referendum-dinitiative-citoyenne_consultation.csv',\n",
    "'2019-03-04_economie-finances-travail-compte-public_consultation-6.csv',\n",
    "'2019-03-04_education-jeunesse-enseignement-superieur-recherche-et-innovation_consultation-7.csv',\n",
    "'2019-03-04_europe-affaires-etrangeres-outre-mer_consultation-4.csv',\n",
    "'2019-03-04_justice-police-armee_consultation-3.csv',\n",
    "'2019-03-04_sante-solidarite-handicap_consultation-5.csv',\n",
    "'2019-03-04_sport-culture_consultation-8.csv',\n",
    "'2019-03-06_expression-libre_consultation-9.csv',\n",
    "'2019-03-06_transition-ecologique-solidaire-agriculture-alimentation_consultation-2.csv']"
   ]
  },
  {
   "cell_type": "code",
   "execution_count": 5,
   "metadata": {},
   "outputs": [
    {
     "name": "stdout",
     "output_type": "stream",
     "text": [
      "democratie-institutions-referendum-dinitiative-citoyenne\n"
     ]
    },
    {
     "name": "stderr",
     "output_type": "stream",
     "text": [
      "/Users/antoinehue/Library/miniconda3/lib/python3.7/site-packages/IPython/core/interactiveshell.py:3063: DtypeWarning: Columns (7,11,12,34,35,42,43,46,47,50,51,54,55,57,66) have mixed types.Specify dtype option on import or set low_memory=False.\n",
      "  interactivity=interactivity, compiler=compiler, result=result)\n"
     ]
    },
    {
     "name": "stdout",
     "output_type": "stream",
     "text": [
      "economie-finances-travail-compte-public\n"
     ]
    },
    {
     "name": "stderr",
     "output_type": "stream",
     "text": [
      "/Users/antoinehue/Library/miniconda3/lib/python3.7/site-packages/IPython/core/interactiveshell.py:3063: DtypeWarning: Columns (7,11,12,13,34,35,36,42,43,46,47,54,55,56,66) have mixed types.Specify dtype option on import or set low_memory=False.\n",
      "  interactivity=interactivity, compiler=compiler, result=result)\n"
     ]
    },
    {
     "name": "stdout",
     "output_type": "stream",
     "text": [
      "education-jeunesse-enseignement-superieur-recherche-et-innovation\n"
     ]
    },
    {
     "name": "stderr",
     "output_type": "stream",
     "text": [
      "/Users/antoinehue/Library/miniconda3/lib/python3.7/site-packages/IPython/core/interactiveshell.py:3063: DtypeWarning: Columns (7,11,12,34,35,36,42,43,46,47,54,55,66) have mixed types.Specify dtype option on import or set low_memory=False.\n",
      "  interactivity=interactivity, compiler=compiler, result=result)\n"
     ]
    },
    {
     "name": "stdout",
     "output_type": "stream",
     "text": [
      "europe-affaires-etrangeres-outre-mer\n"
     ]
    },
    {
     "name": "stderr",
     "output_type": "stream",
     "text": [
      "/Users/antoinehue/Library/miniconda3/lib/python3.7/site-packages/IPython/core/interactiveshell.py:3063: DtypeWarning: Columns (7,11,12,34,35,36,54,55,66) have mixed types.Specify dtype option on import or set low_memory=False.\n",
      "  interactivity=interactivity, compiler=compiler, result=result)\n"
     ]
    },
    {
     "name": "stdout",
     "output_type": "stream",
     "text": [
      "justice-police-armee\n"
     ]
    },
    {
     "name": "stderr",
     "output_type": "stream",
     "text": [
      "/Users/antoinehue/Library/miniconda3/lib/python3.7/site-packages/IPython/core/interactiveshell.py:3063: DtypeWarning: Columns (7,11,12,13,34,35,36,42,43,46,47,50,51,54,55,56,57,59,66) have mixed types.Specify dtype option on import or set low_memory=False.\n",
      "  interactivity=interactivity, compiler=compiler, result=result)\n"
     ]
    },
    {
     "name": "stdout",
     "output_type": "stream",
     "text": [
      "sante-solidarite-handicap\n"
     ]
    },
    {
     "name": "stderr",
     "output_type": "stream",
     "text": [
      "/Users/antoinehue/Library/miniconda3/lib/python3.7/site-packages/IPython/core/interactiveshell.py:3063: DtypeWarning: Columns (11,12,13,36,54,55,56) have mixed types.Specify dtype option on import or set low_memory=False.\n",
      "  interactivity=interactivity, compiler=compiler, result=result)\n"
     ]
    },
    {
     "name": "stdout",
     "output_type": "stream",
     "text": [
      "sport-culture\n",
      "expression-libre\n"
     ]
    },
    {
     "name": "stderr",
     "output_type": "stream",
     "text": [
      "/Users/antoinehue/Library/miniconda3/lib/python3.7/site-packages/IPython/core/interactiveshell.py:3063: DtypeWarning: Columns (1,2,3,4,5,6,7,8,9,10,11,12,13,34,35,36,39,42,43,44,45,46,47,48,49,50,51,52,53,54,55,56,57,58,59,60,62,63,64,65,66) have mixed types.Specify dtype option on import or set low_memory=False.\n",
      "  interactivity=interactivity, compiler=compiler, result=result)\n"
     ]
    },
    {
     "name": "stdout",
     "output_type": "stream",
     "text": [
      "transition-ecologique-solidaire-agriculture-alimentation\n"
     ]
    },
    {
     "name": "stderr",
     "output_type": "stream",
     "text": [
      "/Users/antoinehue/Library/miniconda3/lib/python3.7/site-packages/IPython/core/interactiveshell.py:3063: DtypeWarning: Columns (11,12,13,34,35,36,54,55,56) have mixed types.Specify dtype option on import or set low_memory=False.\n",
      "  interactivity=interactivity, compiler=compiler, result=result)\n"
     ]
    }
   ],
   "source": [
    "df_files = []\n",
    "tag_regex = re.compile(r\"2019\\-03\\-0[0-9]_([\\w\\-]+)_consultation(\\-[0-9]+)?\\.csv\")\n",
    "for file in files:\n",
    "    tag = tag_regex.match(file).groups()[0]\n",
    "    print(tag)\n",
    "    df_file_raw = pd.read_csv(data_path / file)\n",
    "    df_file_sel = df_file_raw.loc[(df_file_raw.type == 'opinion') & (df_file_raw.contribution_versions_title.str.len() > 0), col_selection]\n",
    "    df_file_sel['master_tag'] = tag\n",
    "    df_files.append(df_file_sel[col_master])\n",
    "    \n",
    "df = pd.concat(df_files)"
   ]
  },
  {
   "cell_type": "markdown",
   "metadata": {},
   "source": [
    "# Raw file structure"
   ]
  },
  {
   "cell_type": "code",
   "execution_count": 6,
   "metadata": {},
   "outputs": [
    {
     "data": {
      "text/plain": [
       "Index(['type', 'contributions_id', 'contributions_author_id',\n",
       "       'contributions_section_title', 'contributions_title',\n",
       "       'contributions_bodyText', 'contributions_createdAt',\n",
       "       'contributions_updatedAt', 'contributions_url',\n",
       "       'contributions_published', 'contributions_trashed',\n",
       "       'contributions_trashedStatus', 'contributions_trashedAt',\n",
       "       'contributions_trashedReason', 'contributions_votesCount',\n",
       "       'contributions_votesCountOk', 'contributions_votesCountMitige',\n",
       "       'contributions_votesCountNok', 'contributions_argumentsCount',\n",
       "       'contributions_argumentsCountFor',\n",
       "       'contributions_argumentsCountAgainst', 'contributions_sourcesCount',\n",
       "       'contributions_versionsCount', 'contributions_arguments_related_id',\n",
       "       'contributions_arguments_related_kind', 'contributions_arguments_id',\n",
       "       'contributions_arguments_author_id', 'contributions_arguments_type',\n",
       "       'contributions_arguments_body', 'contributions_arguments_createdAt',\n",
       "       'contributions_arguments_updatedAt', 'contributions_arguments_url',\n",
       "       'contributions_arguments_published', 'contributions_arguments_trashed',\n",
       "       'contributions_arguments_trashedStatus',\n",
       "       'contributions_arguments_trashedAt',\n",
       "       'contributions_arguments_trashedReason',\n",
       "       'contributions_arguments_votesCount', 'contributions_votes_id',\n",
       "       'contributions_votes_author_id', 'contributions_votes_value',\n",
       "       'contributions_votes_createdAt', 'contributions_reportings_related_id',\n",
       "       'contributions_reportings_related_kind', 'contributions_reportings_id',\n",
       "       'contributions_reportings_author_id', 'contributions_reportings_type',\n",
       "       'contributions_reportings_body', 'contributions_reportings_createdAt',\n",
       "       'contributions_sources_id', 'contributions_sources_related_id',\n",
       "       'contributions_sources_related_kind', 'contributions_sources_author_id',\n",
       "       'contributions_sources_trashed', 'contributions_sources_trashedStatus',\n",
       "       'contributions_sources_trashedAt',\n",
       "       'contributions_sources_trashedReason', 'contributions_sources_body',\n",
       "       'contributions_sources_createdAt', 'contributions_sources_updatedAt',\n",
       "       'contributions_sources_published', 'contributions_sources_votesCount',\n",
       "       'contribution_versions_id', 'contribution_versions_title',\n",
       "       'contribution_versions_bodyText', 'contribution_versions_createdAt',\n",
       "       'contribution_versions_updatedAt'],\n",
       "      dtype='object')"
      ]
     },
     "execution_count": 6,
     "metadata": {},
     "output_type": "execute_result"
    }
   ],
   "source": [
    "df_file_raw.columns"
   ]
  },
  {
   "cell_type": "code",
   "execution_count": 7,
   "metadata": {},
   "outputs": [
    {
     "data": {
      "text/plain": [
       "<matplotlib.axes._subplots.AxesSubplot at 0x124eb8650>"
      ]
     },
     "execution_count": 7,
     "metadata": {},
     "output_type": "execute_result"
    },
    {
     "data": {
      "image/png": "[encoded data removed]",
      "text/plain": [
       "<Figure size 432x288 with 1 Axes>"
      ]
     },
     "metadata": {
      "needs_background": "light"
     },
     "output_type": "display_data"
    }
   ],
   "source": [
    "df_file_raw.type.hist()"
   ]
  },
  {
   "cell_type": "markdown",
   "metadata": {},
   "source": [
    "# Combined file analysis"
   ]
  },
  {
   "cell_type": "code",
   "execution_count": 8,
   "metadata": {},
   "outputs": [
    {
     "data": {
      "text/html": [
       "<div>\n",
       "<style scoped>\n",
       "    .dataframe tbody tr th:only-of-type {\n",
       "        vertical-align: middle;\n",
       "    }\n",
       "\n",
       "    .dataframe tbody tr th {\n",
       "        vertical-align: top;\n",
       "    }\n",
       "\n",
       "    .dataframe thead th {\n",
       "        text-align: right;\n",
       "    }\n",
       "</style>\n",
       "<table border=\"1\" class=\"dataframe\">\n",
       "  <thead>\n",
       "    <tr style=\"text-align: right;\">\n",
       "      <th></th>\n",
       "      <th>master_tag</th>\n",
       "      <th>contributions_id</th>\n",
       "      <th>contribution_versions_title</th>\n",
       "      <th>contribution_versions_bodyText</th>\n",
       "      <th>contributions_votesCount</th>\n",
       "      <th>contributions_votesCountOk</th>\n",
       "      <th>contributions_votesCountMitige</th>\n",
       "      <th>contributions_votesCountNok</th>\n",
       "      <th>contributions_argumentsCountFor</th>\n",
       "      <th>contributions_argumentsCountAgainst</th>\n",
       "    </tr>\n",
       "  </thead>\n",
       "  <tbody>\n",
       "    <tr>\n",
       "      <th>136940</th>\n",
       "      <td>democratie-institutions-referendum-dinitiative...</td>\n",
       "      <td>2201aae1-248e-11e9-995f-0242ac110003</td>\n",
       "      <td>Référendum d'Initiative Citoyenne</td>\n",
       "      <td>On ne peut plus accepter que quelques personne...</td>\n",
       "      <td>5694.0</td>\n",
       "      <td>5181.0</td>\n",
       "      <td>214.0</td>\n",
       "      <td>299.0</td>\n",
       "      <td>626.0</td>\n",
       "      <td>187.0</td>\n",
       "    </tr>\n",
       "    <tr>\n",
       "      <th>143678</th>\n",
       "      <td>democratie-institutions-referendum-dinitiative...</td>\n",
       "      <td>958f3323-248d-11e9-995f-0242ac110003</td>\n",
       "      <td>Prise en compte du vote blanc ou nul en tant q...</td>\n",
       "      <td>Lorsqu'une moitié de nos concitoyen(ne)s ne vo...</td>\n",
       "      <td>4932.0</td>\n",
       "      <td>4385.0</td>\n",
       "      <td>341.0</td>\n",
       "      <td>206.0</td>\n",
       "      <td>367.0</td>\n",
       "      <td>169.0</td>\n",
       "    </tr>\n",
       "    <tr>\n",
       "      <th>157653</th>\n",
       "      <td>economie-finances-travail-compte-public</td>\n",
       "      <td>d36faa27-246a-11e9-a81a-0242ac110003</td>\n",
       "      <td>Nationaliser les autoroutes amorties</td>\n",
       "      <td>Toutes les autoroutes construites dans les ann...</td>\n",
       "      <td>4292.0</td>\n",
       "      <td>4116.0</td>\n",
       "      <td>67.0</td>\n",
       "      <td>109.0</td>\n",
       "      <td>213.0</td>\n",
       "      <td>61.0</td>\n",
       "    </tr>\n",
       "    <tr>\n",
       "      <th>111231</th>\n",
       "      <td>expression-libre</td>\n",
       "      <td>4cc0cd7a-24b7-11e9-995f-0242ac110003</td>\n",
       "      <td>Suppression de la loi autorisant le mariage ho...</td>\n",
       "      <td>La loi autorisant le mariage homosexuel a été ...</td>\n",
       "      <td>4049.0</td>\n",
       "      <td>552.0</td>\n",
       "      <td>74.0</td>\n",
       "      <td>3423.0</td>\n",
       "      <td>744.0</td>\n",
       "      <td>486.0</td>\n",
       "    </tr>\n",
       "    <tr>\n",
       "      <th>129669</th>\n",
       "      <td>democratie-institutions-referendum-dinitiative...</td>\n",
       "      <td>99927bfa-2490-11e9-995f-0242ac110003</td>\n",
       "      <td>REDUIRE LE TRAIN DE VIE DE L'ENSEMBLE DES ELUS</td>\n",
       "      <td>1) Arrêt de tous les avantages (salaires, inde...</td>\n",
       "      <td>4020.0</td>\n",
       "      <td>3702.0</td>\n",
       "      <td>203.0</td>\n",
       "      <td>115.0</td>\n",
       "      <td>346.0</td>\n",
       "      <td>125.0</td>\n",
       "    </tr>\n",
       "    <tr>\n",
       "      <th>144315</th>\n",
       "      <td>economie-finances-travail-compte-public</td>\n",
       "      <td>4cb6faf0-246f-11e9-a81a-0242ac110003</td>\n",
       "      <td>Suppression des rémunérations de tous les élus...</td>\n",
       "      <td>A l'heure ou l'état cherche de l'argent, il se...</td>\n",
       "      <td>3876.0</td>\n",
       "      <td>3703.0</td>\n",
       "      <td>100.0</td>\n",
       "      <td>73.0</td>\n",
       "      <td>214.0</td>\n",
       "      <td>58.0</td>\n",
       "    </tr>\n",
       "    <tr>\n",
       "      <th>138309</th>\n",
       "      <td>economie-finances-travail-compte-public</td>\n",
       "      <td>06d23f60-2470-11e9-a81a-0242ac110003</td>\n",
       "      <td>Suppression du CICE, retour de l'ISF, chasse à...</td>\n",
       "      <td>Je propose une suppression du CICE (coût de 20...</td>\n",
       "      <td>3818.0</td>\n",
       "      <td>3474.0</td>\n",
       "      <td>99.0</td>\n",
       "      <td>245.0</td>\n",
       "      <td>231.0</td>\n",
       "      <td>145.0</td>\n",
       "    </tr>\n",
       "    <tr>\n",
       "      <th>167574</th>\n",
       "      <td>expression-libre</td>\n",
       "      <td>67fb3b0a-2488-11e9-995f-0242ac110003</td>\n",
       "      <td>nationalisation des autoroutes.</td>\n",
       "      <td>marre de payer les autoroutes hors de prix. Ge...</td>\n",
       "      <td>3410.0</td>\n",
       "      <td>3272.0</td>\n",
       "      <td>56.0</td>\n",
       "      <td>82.0</td>\n",
       "      <td>215.0</td>\n",
       "      <td>47.0</td>\n",
       "    </tr>\n",
       "    <tr>\n",
       "      <th>113175</th>\n",
       "      <td>democratie-institutions-referendum-dinitiative...</td>\n",
       "      <td>d3bd84da-2496-11e9-995f-0242ac110003</td>\n",
       "      <td>Casier vierge pour les élus</td>\n",
       "      <td>1) Nécessité d'avoir un casier vierges au même...</td>\n",
       "      <td>3355.0</td>\n",
       "      <td>3167.0</td>\n",
       "      <td>116.0</td>\n",
       "      <td>72.0</td>\n",
       "      <td>165.0</td>\n",
       "      <td>50.0</td>\n",
       "    </tr>\n",
       "    <tr>\n",
       "      <th>70979</th>\n",
       "      <td>democratie-institutions-referendum-dinitiative...</td>\n",
       "      <td>ea02c33d-24b7-11e9-995f-0242ac110003</td>\n",
       "      <td>Fin du salaire à vie du président</td>\n",
       "      <td>Fin du maintient du salaire à vie du président...</td>\n",
       "      <td>3119.0</td>\n",
       "      <td>3004.0</td>\n",
       "      <td>85.0</td>\n",
       "      <td>30.0</td>\n",
       "      <td>132.0</td>\n",
       "      <td>31.0</td>\n",
       "    </tr>\n",
       "  </tbody>\n",
       "</table>\n",
       "</div>"
      ],
      "text/plain": [
       "                                               master_tag  \\\n",
       "136940  democratie-institutions-referendum-dinitiative...   \n",
       "143678  democratie-institutions-referendum-dinitiative...   \n",
       "157653            economie-finances-travail-compte-public   \n",
       "111231                                   expression-libre   \n",
       "129669  democratie-institutions-referendum-dinitiative...   \n",
       "144315            economie-finances-travail-compte-public   \n",
       "138309            economie-finances-travail-compte-public   \n",
       "167574                                   expression-libre   \n",
       "113175  democratie-institutions-referendum-dinitiative...   \n",
       "70979   democratie-institutions-referendum-dinitiative...   \n",
       "\n",
       "                            contributions_id  \\\n",
       "136940  2201aae1-248e-11e9-995f-0242ac110003   \n",
       "143678  958f3323-248d-11e9-995f-0242ac110003   \n",
       "157653  d36faa27-246a-11e9-a81a-0242ac110003   \n",
       "111231  4cc0cd7a-24b7-11e9-995f-0242ac110003   \n",
       "129669  99927bfa-2490-11e9-995f-0242ac110003   \n",
       "144315  4cb6faf0-246f-11e9-a81a-0242ac110003   \n",
       "138309  06d23f60-2470-11e9-a81a-0242ac110003   \n",
       "167574  67fb3b0a-2488-11e9-995f-0242ac110003   \n",
       "113175  d3bd84da-2496-11e9-995f-0242ac110003   \n",
       "70979   ea02c33d-24b7-11e9-995f-0242ac110003   \n",
       "\n",
       "                              contribution_versions_title  \\\n",
       "136940                  Référendum d'Initiative Citoyenne   \n",
       "143678  Prise en compte du vote blanc ou nul en tant q...   \n",
       "157653               Nationaliser les autoroutes amorties   \n",
       "111231  Suppression de la loi autorisant le mariage ho...   \n",
       "129669     REDUIRE LE TRAIN DE VIE DE L'ENSEMBLE DES ELUS   \n",
       "144315  Suppression des rémunérations de tous les élus...   \n",
       "138309  Suppression du CICE, retour de l'ISF, chasse à...   \n",
       "167574                    nationalisation des autoroutes.   \n",
       "113175                        Casier vierge pour les élus   \n",
       "70979                   Fin du salaire à vie du président   \n",
       "\n",
       "                           contribution_versions_bodyText  \\\n",
       "136940  On ne peut plus accepter que quelques personne...   \n",
       "143678  Lorsqu'une moitié de nos concitoyen(ne)s ne vo...   \n",
       "157653  Toutes les autoroutes construites dans les ann...   \n",
       "111231  La loi autorisant le mariage homosexuel a été ...   \n",
       "129669  1) Arrêt de tous les avantages (salaires, inde...   \n",
       "144315  A l'heure ou l'état cherche de l'argent, il se...   \n",
       "138309  Je propose une suppression du CICE (coût de 20...   \n",
       "167574  marre de payer les autoroutes hors de prix. Ge...   \n",
       "113175  1) Nécessité d'avoir un casier vierges au même...   \n",
       "70979   Fin du maintient du salaire à vie du président...   \n",
       "\n",
       "        contributions_votesCount  contributions_votesCountOk  \\\n",
       "136940                    5694.0                      5181.0   \n",
       "143678                    4932.0                      4385.0   \n",
       "157653                    4292.0                      4116.0   \n",
       "111231                    4049.0                       552.0   \n",
       "129669                    4020.0                      3702.0   \n",
       "144315                    3876.0                      3703.0   \n",
       "138309                    3818.0                      3474.0   \n",
       "167574                    3410.0                      3272.0   \n",
       "113175                    3355.0                      3167.0   \n",
       "70979                     3119.0                      3004.0   \n",
       "\n",
       "        contributions_votesCountMitige  contributions_votesCountNok  \\\n",
       "136940                           214.0                        299.0   \n",
       "143678                           341.0                        206.0   \n",
       "157653                            67.0                        109.0   \n",
       "111231                            74.0                       3423.0   \n",
       "129669                           203.0                        115.0   \n",
       "144315                           100.0                         73.0   \n",
       "138309                            99.0                        245.0   \n",
       "167574                            56.0                         82.0   \n",
       "113175                           116.0                         72.0   \n",
       "70979                             85.0                         30.0   \n",
       "\n",
       "        contributions_argumentsCountFor  contributions_argumentsCountAgainst  \n",
       "136940                            626.0                                187.0  \n",
       "143678                            367.0                                169.0  \n",
       "157653                            213.0                                 61.0  \n",
       "111231                            744.0                                486.0  \n",
       "129669                            346.0                                125.0  \n",
       "144315                            214.0                                 58.0  \n",
       "138309                            231.0                                145.0  \n",
       "167574                            215.0                                 47.0  \n",
       "113175                            165.0                                 50.0  \n",
       "70979                             132.0                                 31.0  "
      ]
     },
     "execution_count": 8,
     "metadata": {},
     "output_type": "execute_result"
    }
   ],
   "source": [
    "df.sort_values('contributions_votesCount', ascending=False).head(10)"
   ]
  },
  {
   "cell_type": "code",
   "execution_count": 9,
   "metadata": {},
   "outputs": [
    {
     "data": {
      "text/plain": [
       "Text(0.5, 1.0, 'Nombre de votes pour tous les opinions avec nombre de votes > 100')"
      ]
     },
     "execution_count": 9,
     "metadata": {},
     "output_type": "execute_result"
    },
    {
     "data": {
      "image/png": "[encoded data removed]",
      "text/plain": [
       "<Figure size 1080x360 with 2 Axes>"
      ]
     },
     "metadata": {
      "needs_background": "light"
     },
     "output_type": "display_data"
    }
   ],
   "source": [
    "fig, axes = plt.subplots(1, 2, figsize=(15, 5))\n",
    "ax = axes[0]\n",
    "df.contributions_votesCount.hist(ax=ax, bins=50)\n",
    "ax.set_yscale('log')\n",
    "ax.set_title('Nombre de votes pour tous les opinions')\n",
    "ax = axes[1]\n",
    "df.contributions_votesCount[df.contributions_votesCount > 100].hist(ax=ax, bins=50)\n",
    "ax.set_yscale('log')\n",
    "ax.set_title('Nombre de votes pour tous les opinions avec nombre de votes > 100')"
   ]
  },
  {
   "cell_type": "code",
   "execution_count": null,
   "metadata": {},
   "outputs": [],
   "source": []
  },
  {
   "cell_type": "code",
   "execution_count": 10,
   "metadata": {},
   "outputs": [
    {
     "data": {
      "text/html": [
       "<div>\n",
       "<style scoped>\n",
       "    .dataframe tbody tr th:only-of-type {\n",
       "        vertical-align: middle;\n",
       "    }\n",
       "\n",
       "    .dataframe tbody tr th {\n",
       "        vertical-align: top;\n",
       "    }\n",
       "\n",
       "    .dataframe thead th {\n",
       "        text-align: right;\n",
       "    }\n",
       "</style>\n",
       "<table border=\"1\" class=\"dataframe\">\n",
       "  <thead>\n",
       "    <tr style=\"text-align: right;\">\n",
       "      <th></th>\n",
       "      <th>contribution_versions_title</th>\n",
       "      <th>contributions_votesCount</th>\n",
       "      <th>contributions_votesCountOk</th>\n",
       "      <th>contributions_votesCountMitige</th>\n",
       "      <th>contributions_argumentsCountFor</th>\n",
       "      <th>contributions_argumentsCountAgainst</th>\n",
       "    </tr>\n",
       "    <tr>\n",
       "      <th>master_tag</th>\n",
       "      <th></th>\n",
       "      <th></th>\n",
       "      <th></th>\n",
       "      <th></th>\n",
       "      <th></th>\n",
       "      <th></th>\n",
       "    </tr>\n",
       "  </thead>\n",
       "  <tbody>\n",
       "    <tr>\n",
       "      <th>expression-libre</th>\n",
       "      <td>3769</td>\n",
       "      <td>165090.0</td>\n",
       "      <td>123143.0</td>\n",
       "      <td>8278.0</td>\n",
       "      <td>11399.0</td>\n",
       "      <td>7805.0</td>\n",
       "    </tr>\n",
       "    <tr>\n",
       "      <th>economie-finances-travail-compte-public</th>\n",
       "      <td>6410</td>\n",
       "      <td>154551.0</td>\n",
       "      <td>129428.0</td>\n",
       "      <td>6681.0</td>\n",
       "      <td>10856.0</td>\n",
       "      <td>6457.0</td>\n",
       "    </tr>\n",
       "    <tr>\n",
       "      <th>democratie-institutions-referendum-dinitiative-citoyenne</th>\n",
       "      <td>4063</td>\n",
       "      <td>132063.0</td>\n",
       "      <td>104900.0</td>\n",
       "      <td>7432.0</td>\n",
       "      <td>9210.0</td>\n",
       "      <td>6179.0</td>\n",
       "    </tr>\n",
       "    <tr>\n",
       "      <th>education-jeunesse-enseignement-superieur-recherche-et-innovation</th>\n",
       "      <td>1581</td>\n",
       "      <td>58864.0</td>\n",
       "      <td>42265.0</td>\n",
       "      <td>3748.0</td>\n",
       "      <td>3451.0</td>\n",
       "      <td>3004.0</td>\n",
       "    </tr>\n",
       "    <tr>\n",
       "      <th>europe-affaires-etrangeres-outre-mer</th>\n",
       "      <td>963</td>\n",
       "      <td>48031.0</td>\n",
       "      <td>33354.0</td>\n",
       "      <td>2490.0</td>\n",
       "      <td>2421.0</td>\n",
       "      <td>2401.0</td>\n",
       "    </tr>\n",
       "    <tr>\n",
       "      <th>sante-solidarite-handicap</th>\n",
       "      <td>1900</td>\n",
       "      <td>40866.0</td>\n",
       "      <td>31166.0</td>\n",
       "      <td>1684.0</td>\n",
       "      <td>2620.0</td>\n",
       "      <td>1506.0</td>\n",
       "    </tr>\n",
       "    <tr>\n",
       "      <th>justice-police-armee</th>\n",
       "      <td>1400</td>\n",
       "      <td>28707.0</td>\n",
       "      <td>21075.0</td>\n",
       "      <td>1377.0</td>\n",
       "      <td>1492.0</td>\n",
       "      <td>1336.0</td>\n",
       "    </tr>\n",
       "    <tr>\n",
       "      <th>sport-culture</th>\n",
       "      <td>593</td>\n",
       "      <td>27291.0</td>\n",
       "      <td>18367.0</td>\n",
       "      <td>1897.0</td>\n",
       "      <td>1493.0</td>\n",
       "      <td>1317.0</td>\n",
       "    </tr>\n",
       "    <tr>\n",
       "      <th>transition-ecologique-solidaire-agriculture-alimentation</th>\n",
       "      <td>2600</td>\n",
       "      <td>24475.0</td>\n",
       "      <td>19568.0</td>\n",
       "      <td>1372.0</td>\n",
       "      <td>2356.0</td>\n",
       "      <td>1419.0</td>\n",
       "    </tr>\n",
       "  </tbody>\n",
       "</table>\n",
       "</div>"
      ],
      "text/plain": [
       "                                                    contribution_versions_title  \\\n",
       "master_tag                                                                        \n",
       "expression-libre                                                           3769   \n",
       "economie-finances-travail-compte-public                                    6410   \n",
       "democratie-institutions-referendum-dinitiative-...                         4063   \n",
       "education-jeunesse-enseignement-superieur-reche...                         1581   \n",
       "europe-affaires-etrangeres-outre-mer                                        963   \n",
       "sante-solidarite-handicap                                                  1900   \n",
       "justice-police-armee                                                       1400   \n",
       "sport-culture                                                               593   \n",
       "transition-ecologique-solidaire-agriculture-ali...                         2600   \n",
       "\n",
       "                                                    contributions_votesCount  \\\n",
       "master_tag                                                                     \n",
       "expression-libre                                                    165090.0   \n",
       "economie-finances-travail-compte-public                             154551.0   \n",
       "democratie-institutions-referendum-dinitiative-...                  132063.0   \n",
       "education-jeunesse-enseignement-superieur-reche...                   58864.0   \n",
       "europe-affaires-etrangeres-outre-mer                                 48031.0   \n",
       "sante-solidarite-handicap                                            40866.0   \n",
       "justice-police-armee                                                 28707.0   \n",
       "sport-culture                                                        27291.0   \n",
       "transition-ecologique-solidaire-agriculture-ali...                   24475.0   \n",
       "\n",
       "                                                    contributions_votesCountOk  \\\n",
       "master_tag                                                                       \n",
       "expression-libre                                                      123143.0   \n",
       "economie-finances-travail-compte-public                               129428.0   \n",
       "democratie-institutions-referendum-dinitiative-...                    104900.0   \n",
       "education-jeunesse-enseignement-superieur-reche...                     42265.0   \n",
       "europe-affaires-etrangeres-outre-mer                                   33354.0   \n",
       "sante-solidarite-handicap                                              31166.0   \n",
       "justice-police-armee                                                   21075.0   \n",
       "sport-culture                                                          18367.0   \n",
       "transition-ecologique-solidaire-agriculture-ali...                     19568.0   \n",
       "\n",
       "                                                    contributions_votesCountMitige  \\\n",
       "master_tag                                                                           \n",
       "expression-libre                                                            8278.0   \n",
       "economie-finances-travail-compte-public                                     6681.0   \n",
       "democratie-institutions-referendum-dinitiative-...                          7432.0   \n",
       "education-jeunesse-enseignement-superieur-reche...                          3748.0   \n",
       "europe-affaires-etrangeres-outre-mer                                        2490.0   \n",
       "sante-solidarite-handicap                                                   1684.0   \n",
       "justice-police-armee                                                        1377.0   \n",
       "sport-culture                                                               1897.0   \n",
       "transition-ecologique-solidaire-agriculture-ali...                          1372.0   \n",
       "\n",
       "                                                    contributions_argumentsCountFor  \\\n",
       "master_tag                                                                            \n",
       "expression-libre                                                            11399.0   \n",
       "economie-finances-travail-compte-public                                     10856.0   \n",
       "democratie-institutions-referendum-dinitiative-...                           9210.0   \n",
       "education-jeunesse-enseignement-superieur-reche...                           3451.0   \n",
       "europe-affaires-etrangeres-outre-mer                                         2421.0   \n",
       "sante-solidarite-handicap                                                    2620.0   \n",
       "justice-police-armee                                                         1492.0   \n",
       "sport-culture                                                                1493.0   \n",
       "transition-ecologique-solidaire-agriculture-ali...                           2356.0   \n",
       "\n",
       "                                                    contributions_argumentsCountAgainst  \n",
       "master_tag                                                                               \n",
       "expression-libre                                                                 7805.0  \n",
       "economie-finances-travail-compte-public                                          6457.0  \n",
       "democratie-institutions-referendum-dinitiative-...                               6179.0  \n",
       "education-jeunesse-enseignement-superieur-reche...                               3004.0  \n",
       "europe-affaires-etrangeres-outre-mer                                             2401.0  \n",
       "sante-solidarite-handicap                                                        1506.0  \n",
       "justice-police-armee                                                             1336.0  \n",
       "sport-culture                                                                    1317.0  \n",
       "transition-ecologique-solidaire-agriculture-ali...                               1419.0  "
      ]
     },
     "execution_count": 10,
     "metadata": {},
     "output_type": "execute_result"
    }
   ],
   "source": [
    "df_stats = pd.concat([df[['master_tag', 'contribution_versions_title']].groupby('master_tag').count(),\n",
    "                      df[['master_tag', 'contributions_votesCount']].groupby('master_tag').sum(),\n",
    "                      df[['master_tag', 'contributions_votesCountOk']].groupby('master_tag').sum(),\n",
    "                      df[['master_tag', 'contributions_votesCountMitige']].groupby('master_tag').sum(),\n",
    "                      df[['master_tag', 'contributions_argumentsCountFor']].groupby('master_tag').sum(),\n",
    "                      df[['master_tag', 'contributions_argumentsCountAgainst']].groupby('master_tag').sum()], axis=1)\n",
    "df_stats.sort_values('contributions_votesCount', ascending=False)"
   ]
  },
  {
   "cell_type": "code",
   "execution_count": 11,
   "metadata": {},
   "outputs": [
    {
     "name": "stderr",
     "output_type": "stream",
     "text": [
      "/Users/antoinehue/Library/miniconda3/lib/python3.7/site-packages/fastparquet/encoding.py:222: NumbaDeprecationWarning: The 'numba.jitclass' decorator has moved to 'numba.experimental.jitclass' to better reflect the experimental nature of the functionality. Please update your imports to accommodate this change and see http://numba.pydata.org/numba-doc/latest/reference/deprecation.html#change-of-jitclass-location for the time frame.\n",
      "  Numpy8 = numba.jitclass(spec8)(NumpyIO)\n",
      "/Users/antoinehue/Library/miniconda3/lib/python3.7/site-packages/fastparquet/encoding.py:224: NumbaDeprecationWarning: The 'numba.jitclass' decorator has moved to 'numba.experimental.jitclass' to better reflect the experimental nature of the functionality. Please update your imports to accommodate this change and see http://numba.pydata.org/numba-doc/latest/reference/deprecation.html#change-of-jitclass-location for the time frame.\n",
      "  Numpy32 = numba.jitclass(spec32)(NumpyIO)\n"
     ]
    }
   ],
   "source": [
    "df.to_parquet('leVraiDebat-opinions.parquet', compression='GZIP')"
   ]
  },
  {
   "cell_type": "code",
   "execution_count": null,
   "metadata": {},
   "outputs": [],
   "source": []
  }
 ],
 "metadata": {
  "kernelspec": {
   "display_name": "Python 3",
   "language": "python",
   "name": "python3"
  },
  "language_info": {
   "codemirror_mode": {
    "name": "ipython",
    "version": 3
   },
   "file_extension": ".py",
   "mimetype": "text/x-python",
   "name": "python",
   "nbconvert_exporter": "python",
   "pygments_lexer": "ipython3",
   "version": "3.7.6"
  }
 },
 "nbformat": 4,
 "nbformat_minor": 4
}
